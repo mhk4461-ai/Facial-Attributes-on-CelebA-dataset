{
  "cells": [
    {
      "cell_type": "markdown",
      "source": [
        "Module 5 Assignment Matt Klekar: Custom CNN for CelebA dataset."
      ],
      "metadata": {
        "id": "Loz9HWwL0XwI"
      }
    },
    {
      "cell_type": "markdown",
      "source": [
        "Quick summary:\n",
        "\n",
        "I have chosen the CelebA dataset from Kaggle (more details in code below). The objective of the model I am making is to accurately predict image attributes for a given image in the dataset. The attributes I have chosen are \"Smiling\", \"Sunglasses\", \"Blond Hair\", \"Young\", and \"Male\".\n",
        "\n",
        "The Model I have chosen is inspired by ResNet and is similar to a MobileNetV2 CNN. It is similar to these two because it uses inverted bottlenecks and residucal connections. The main distinction between my model and these two is that mine utilizes Grouped Convolutions, instead of depthwise separable (like in MobileNetV2) and standard (as in ResNet).\n",
        "\n",
        "To train this model, I used BCELogitsLoss as my loss function. This is similar to Cross Entropy, but is used for multi-label classification. Cross Entropy cannot be used for multi-label classifications. Then, I used an SGD optimizer, as we have a larger dataset. This model takes a while to train. When running training and logging loss per epoch, this section of code will take about 25-30 minutes."
      ],
      "metadata": {
        "id": "Ant7BOkf5zFL"
      }
    },
    {
      "cell_type": "markdown",
      "source": [
        "Importing essential libraries"
      ],
      "metadata": {
        "id": "BUKTmG4uwmpa"
      }
    },
    {
      "cell_type": "code",
      "execution_count": 1,
      "metadata": {
        "id": "G0VnfuBaQf6P"
      },
      "outputs": [],
      "source": [
        "import os\n",
        "import random\n",
        "import time\n",
        "from pathlib import Path\n",
        "\n",
        "import numpy as np\n",
        "import matplotlib.pyplot as plt\n",
        "import torch\n",
        "import torch.nn as nn\n",
        "import torch.nn.functional as F\n",
        "import torchvision\n",
        "import torchvision.transforms as transforms\n",
        "from torch.utils.data import Dataset, DataLoader, Subset\n",
        "from torch.utils.data import random_split\n",
        "import os\n",
        "import pandas as pd\n",
        "import numpy as np\n",
        "from PIL import Image\n",
        "from sklearn.model_selection import train_test_split"
      ]
    },
    {
      "cell_type": "code",
      "execution_count": 2,
      "metadata": {
        "colab": {
          "base_uri": "https://localhost:8080/"
        },
        "id": "teup9MisUqWh",
        "outputId": "db983fd4-40dc-4ba1-f466-469c2d604aff"
      },
      "outputs": [
        {
          "output_type": "stream",
          "name": "stdout",
          "text": [
            "Device: cuda\n"
          ]
        }
      ],
      "source": [
        "##Setting random seeds. Creates random module.\n",
        "def set_seed(seed=42):\n",
        "    random.seed(seed)\n",
        "    np.random.seed(seed)\n",
        "    torch.manual_seed(seed)\n",
        "    if torch.cuda.is_available():\n",
        "        torch.cuda.manual_seed_all(seed)\n",
        "set_seed(42)\n",
        "device = torch.device(\"cuda\" if torch.cuda.is_available() else \"cpu\")\n",
        "print('Device:', device)"
      ]
    },
    {
      "cell_type": "markdown",
      "metadata": {
        "id": "Q9W60oRGu0Fc"
      },
      "source": [
        "Importing Dataset.\n",
        "\n",
        "The dataset I am using comes from Kaggle. It is the celebrity face recognition image classification dataset. It is by Jessica Li. For this, our objective will be to identify different attributes about the individual in each image (i.e, smiling/winking/blinking/etc).  If you want to view the dataset and its respective files, use this link : https://www.kaggle.com/datasets/jessicali9530/celeba-dataset?resource=download.\n",
        "\n",
        "\n",
        "\n"
      ]
    },
    {
      "cell_type": "code",
      "execution_count": 3,
      "metadata": {
        "colab": {
          "base_uri": "https://localhost:8080/"
        },
        "id": "1SgPhNVqukf9",
        "outputId": "477af51a-64a1-40c2-d301-92a1799e6ea3"
      },
      "outputs": [
        {
          "output_type": "stream",
          "name": "stdout",
          "text": [
            "Using Colab cache for faster access to the 'celeba-dataset' dataset.\n",
            "Path to dataset files: /kaggle/input/celeba-dataset\n"
          ]
        }
      ],
      "source": [
        "import kagglehub\n",
        "\n",
        "# Download latest version\n",
        "path = kagglehub.dataset_download(\"jessicali9530/celeba-dataset\")\n",
        "\n",
        "print(\"Path to dataset files:\", path)"
      ]
    },
    {
      "cell_type": "markdown",
      "source": [
        "The below code in this chunk is from the Kaggle discussion board post related to the dataset, posted by Ali Abdollahi. This helps with the splitting of the CelebA dataset. It normalizes the images to [0,1] and distinguishes the image files and the attribute file. It also focuses on 5 of the 40 attributes to speed up training. Source: https://www.kaggle.com/code/aabdollahii/multi-task-learning-mtl-tutorial"
      ],
      "metadata": {
        "id": "o0s5ITwxVpEq"
      }
    },
    {
      "cell_type": "code",
      "source": [
        "# Define paths\n",
        "BASE_PATH = \"/kaggle/input/celeba-dataset/\"\n",
        "IMAGE_PATH = os.path.join(BASE_PATH, \"img_align_celeba\", \"img_align_celeba\")\n",
        "ATTRIBUTE_PATH = os.path.join(BASE_PATH, \"list_attr_celeba.csv\")\n",
        "\n",
        "\n",
        "# Load attributes\n",
        "df_attr = pd.read_csv(ATTRIBUTE_PATH)\n",
        "for col in df_attr.columns:\n",
        " if col != 'image_id':\n",
        "        df_attr[col] = df_attr[col].replace(-1, 0)\n",
        "# Select our target attributes for the multi-task problem\n",
        "TARGET_ATTRIBUTES = ['Smiling', 'Eyeglasses', 'Male', 'Blond_Hair', 'Young']\n",
        "\n",
        "# Create a new DataFrame with only the image_id and our target attributes\n",
        "df_final = df_attr[['image_id'] + TARGET_ATTRIBUTES].reset_index(drop=True)\n",
        "\n",
        "\n",
        "train_df, test_val_df = train_test_split(df_final, test_size=0.2, random_state=42)\n",
        "val_df, test_df = train_test_split(test_val_df, test_size=0.5, random_state=42)\n",
        "\n",
        "print(f\"Training set size: {len(train_df)}\")\n",
        "print(f\"Validation set size: {len(val_df)}\")\n",
        "print(f\"Test set size: {len(test_df)}\")"
      ],
      "metadata": {
        "colab": {
          "base_uri": "https://localhost:8080/"
        },
        "id": "S1oe4S6RP70Z",
        "outputId": "bcfba169-a33f-4f67-8f87-10b4b173730e"
      },
      "execution_count": 4,
      "outputs": [
        {
          "output_type": "stream",
          "name": "stdout",
          "text": [
            "Training set size: 162079\n",
            "Validation set size: 20260\n",
            "Test set size: 20260\n"
          ]
        }
      ]
    },
    {
      "cell_type": "markdown",
      "source": [
        "Creating custom dataset class (also from source above, see URL):\n"
      ],
      "metadata": {
        "id": "tCx20aQ-WQR1"
      }
    },
    {
      "cell_type": "code",
      "source": [
        "# Create the custom dataset class\n",
        "class CelebADataset(Dataset):\n",
        "    def __init__(self, df, img_dir, attributes, transform=None):\n",
        "        self.df = df\n",
        "        self.img_dir = img_dir\n",
        "        self.attributes = attributes\n",
        "        self.transform = transform\n",
        "\n",
        "    def __len__(self):\n",
        "        return len(self.df)\n",
        "\n",
        "    def __getitem__(self, idx):\n",
        "        row = self.df.iloc[idx]\n",
        "        img_path = os.path.join(self.img_dir, row['image_id'])\n",
        "\n",
        "        # Load image\n",
        "        image = Image.open(img_path).convert('RGB')\n",
        "\n",
        "        # Apply transformations\n",
        "        if self.transform:\n",
        "            image = self.transform(image)\n",
        "\n",
        "        # Get labels\n",
        "        labels = torch.FloatTensor(row[self.attributes].values.astype(float))\n",
        "\n",
        "        return image, labels"
      ],
      "metadata": {
        "id": "pswyTejbWO8W"
      },
      "execution_count": 5,
      "outputs": []
    },
    {
      "cell_type": "markdown",
      "source": [
        "Normalizing image data using ImageNet Mean and STD, and then creating train, test, and validation datasets."
      ],
      "metadata": {
        "id": "IaBG_hSyEJo3"
      }
    },
    {
      "cell_type": "code",
      "execution_count": 6,
      "metadata": {
        "id": "gPRPLStCQzvK"
      },
      "outputs": [],
      "source": [
        "CELEBA_MEAN = (0.485, 0.456, 0.406) ##Using standard mean and STD for Images\n",
        "CELEBA_STD = (0.229, 0.224, 0.225)\n",
        "batch_size = 64 # Reduced batch size\n",
        "num_workers = 4\n",
        "\n",
        "train_transform = transforms.Compose([\n",
        "    transforms.Resize((64, 64)), # Reduced image size\n",
        "    transforms.RandomCrop(64, padding=4), ##Batch size and padding around each image.\n",
        "    transforms.RandomHorizontalFlip(),\n",
        "    transforms.ToTensor(), ##Normalizes to [0,1]\n",
        "    transforms.Normalize(CELEBA_MEAN, CELEBA_STD)##Standardsizes to mean and STD of dataset.\n",
        "])\n",
        "\n",
        "test_transform = transforms.Compose([\n",
        "    transforms.Resize((64, 64)), # Reduced image size\n",
        "    transforms.ToTensor(),\n",
        "    transforms.Normalize(CELEBA_MEAN, CELEBA_STD)\n",
        "])\n",
        "\n",
        "##Dataset does not come with a train,test split, so we will have to create one on our own.\n",
        "import torchvision.datasets as datasets # Import the datasets module\n",
        "\n",
        "# Instantiate datasets for each split\n",
        "train_data = CelebADataset(train_df, IMAGE_PATH, TARGET_ATTRIBUTES, transform=train_transform)\n",
        "val_data = CelebADataset(val_df, IMAGE_PATH, TARGET_ATTRIBUTES, transform=test_transform)\n",
        "test_data= CelebADataset(test_df, IMAGE_PATH, TARGET_ATTRIBUTES, transform=test_transform)\n",
        "\n",
        "train_loader = DataLoader(train_data, batch_size=batch_size, shuffle=True, num_workers=num_workers, pin_memory = True)\n",
        "test_loader = DataLoader(test_data, batch_size=batch_size, shuffle=False, num_workers=num_workers, pin_memory = True)\n",
        "val_loader = DataLoader(val_data, batch_size=batch_size, shuffle=False, num_workers=num_workers)"
      ]
    },
    {
      "cell_type": "markdown",
      "source": [
        "Building blocks for Modified CNN."
      ],
      "metadata": {
        "id": "tjcl_hHiL72M"
      }
    },
    {
      "cell_type": "code",
      "source": [
        "class GroupConvBNReLU(nn.Sequential):\n",
        "  ## Grouped convolution + batch norm +ReLU 6 Helper. This is a variant of the ResNet CNN algorithm.\n",
        "    def __init__(self, in_planes=32, out_planes=64, kernel_size=3, stride=1, padding=1, groups=4): ##Using group = 6\n",
        "      padding = (kernel_size-1)//2\n",
        "      super().__init__(\n",
        "          nn.Conv2d(in_planes, out_planes, kernel_size=kernel_size, stride=stride, padding=padding, groups=groups, bias=False),\n",
        "          nn.BatchNorm2d(out_planes),\n",
        "          nn.ReLU6(inplace=True)\n",
        "      )\n",
        "\n",
        "class GroupedResidual(nn.Module):\n",
        "  ##Modified Grouped residual/bottleneck block\n",
        "    def __init__(self, inp, outp, stride, expand_ratio):\n",
        "      super().__init__()\n",
        "      assert stride in [1,2]\n",
        "      self.stride = stride\n",
        "      hidden_dim = int(round(inp*expand_ratio))\n",
        "      self.use_residual = self.stride == 1 and inp == outp\n",
        "      layers = []\n",
        "      ##applying simple 1x1 convolution. NO grouping yet.\n",
        "      if expand_ratio != 1:\n",
        "        layers.append(GroupConvBNReLU(inp, hidden_dim, kernel_size=1, stride = 1, padding = 0))\n",
        "      ##3x3 groupwise convolution after 1x1 convolution:\n",
        "      layers.append(GroupConvBNReLU(hidden_dim, hidden_dim,\n",
        "                                  kernel_size=3, stride=stride,\n",
        "                                  padding=1, groups=4)) ##Groups !=hidden dim here; major component of grouped convolution.\n",
        "      ##Need to apply linear projection. 1x1.\n",
        "      layers.append(nn.Conv2d(hidden_dim, outp, kernel_size=1, stride=1, padding=0, bias=False))\n",
        "      layers.append(nn.BatchNorm2d(outp))\n",
        "      self.conv = nn.Sequential(*layers)\n",
        "\n",
        "    def forward(self, x):\n",
        "      if self.use_residual:\n",
        "        return x + self.conv(x)\n",
        "      else:\n",
        "        return self.conv(x)"
      ],
      "metadata": {
        "id": "ZaYwnaYCggbR"
      },
      "execution_count": 7,
      "outputs": []
    },
    {
      "cell_type": "markdown",
      "source": [
        "Modified ResNet/MobileNetV2 Construction. The below setup is a mix between ResNet and MobileNetV2 CNNs. It uses grouped convolution instead of depthwise separable, like MobileNet would. This also differs from ResNet because ResNet uses standard convolutions."
      ],
      "metadata": {
        "id": "ULLp1kHfq9-A"
      }
    },
    {
      "cell_type": "code",
      "source": [
        "class ModifiedRes(nn.Module):\n",
        "    def __init__(self, num_classes =40, width_multiplier=1, round_nearest =8, first_conv_stride=1): ## num_classes = 40 classes in attribute classification.\n",
        "        super().__init__()\n",
        "        ##grouped resid setting = [inp, out, stride, exp ratio, repeats]\n",
        "        grouped_residual_setting = [\n",
        "            [32,16,1,1,1], ##[inp = 32, out=16, stride = 1, exp ratio = 1, repeat = 1]\n",
        "            [16,24,2,6,2],\n",
        "            [24,32,2,6,3],\n",
        "            [32,64,2,6,4],\n",
        "            [64,96,1,6,5],\n",
        "            [96,160,2,6,6],\n",
        "            [160,320,1,6,7]\n",
        "        ]\n",
        "        input_channel = 32\n",
        "        last_channel = 1280\n",
        "\n",
        "        def _make_divisible(v, divisor = round_nearest, min_value=None):\n",
        "            if min_value is None:\n",
        "                min_value = divisor\n",
        "            new_v = max(min_value, int(v + divisor / 2) // divisor * divisor)\n",
        "            if new_v < 0.9 * v:\n",
        "                new_v += divisor\n",
        "            return new_v\n",
        "        ## Adjusting Channels by width multiplier.\n",
        "        input_channel = _make_divisible(input_channel * width_multiplier)\n",
        "        last_channel = _make_divisible(last_channel * max(1.0, width_multiplier))\n",
        "\n",
        "        ##Building first layer. Keeping stride =1\n",
        "        features = [GroupConvBNReLU(3, input_channel, stride=first_conv_stride, groups=1)] ## Set groups to 1\n",
        "\n",
        "        ## Building residual blocks, but with the grouping that we set in place in the previous cell.\n",
        "        for inp, out, stride, expand_ratio, repeats in grouped_residual_setting:\n",
        "            output_channel = _make_divisible(out * width_multiplier)\n",
        "            for i in range(repeats):\n",
        "                stride = stride if i == 0 else 1\n",
        "                features.append(GroupedResidual(input_channel, output_channel, stride, expand_ratio))\n",
        "                input_channel = output_channel\n",
        "\n",
        "        ## Final layers\n",
        "        features.append(GroupConvBNReLU(input_channel, last_channel, kernel_size=1))\n",
        "        self.features = nn.Sequential(*features)\n",
        "\n",
        "        self.classifier = nn.Sequential(\n",
        "            nn.Dropout(0.2),\n",
        "            nn.Linear(last_channel, num_classes)\n",
        "        )\n",
        "\n",
        "        ##initializing weights:\n",
        "\n",
        "        for m in self.modules():\n",
        "            if isinstance(m, nn.Conv2d):\n",
        "                nn.init.kaiming_normal_(m.weight, mode='fan_out')\n",
        "                if m.bias is not None:\n",
        "                    nn.init.zeros_(m.bias)\n",
        "            elif isinstance(m, nn.BatchNorm2d):\n",
        "                nn.init.ones_(m.weight)\n",
        "                nn.init.zeros_(m.bias)\n",
        "            elif isinstance(m, nn.Linear):\n",
        "                nn.init.normal_(m.weight, 0, 0.01)\n",
        "                nn.init.zeros_(m.bias)\n",
        "\n",
        "    def forward(self, x):\n",
        "        x = self.features(x)\n",
        "        x=F.adaptive_avg_pool2d(x, (1,1)) ## For global average pooling.\n",
        "        x = torch.flatten(x, 1)\n",
        "        x = self.classifier(x)\n",
        "        return x"
      ],
      "metadata": {
        "id": "yYifQShrq8kf"
      },
      "execution_count": 8,
      "outputs": []
    },
    {
      "cell_type": "markdown",
      "source": [
        "Model/parameter/output shape tests.\n"
      ],
      "metadata": {
        "id": "dHteVmWg1nZ9"
      }
    },
    {
      "cell_type": "code",
      "source": [
        "def count_parameters(model):\n",
        "    return sum(p.numel() for p in model.parameters() if p.requires_grad)\n",
        "\n",
        "##Instantiate Model:\n",
        "model=ModifiedRes(num_classes=len(TARGET_ATTRIBUTES), width_multiplier=1, first_conv_stride =1).to(device)\n",
        "print(\"Model:\", model.__class__.__name__)\n",
        "print(\"Parameters:\", count_parameters(model))\n",
        "\n",
        "##DUMMY FORWARD WITH CELEBA Size Batch (Batch =8, 3x128x128)\n",
        "x=torch.randn(4,3,128,128).to(device) # Reduced dummy batch size to 4\n",
        "with torch.no_grad():\n",
        "  out = model(x)\n",
        "print(\"Output shape (batch x classes):\", out.shape)\n",
        "assert out.shape == (4, len(TARGET_ATTRIBUTES)), 'Unexpected output shape - check model implementation'"
      ],
      "metadata": {
        "colab": {
          "base_uri": "https://localhost:8080/"
        },
        "id": "_YG6Wo4z1mWp",
        "outputId": "fcd6f20a-9bd5-4c73-c8fa-83fc5951d112"
      },
      "execution_count": 9,
      "outputs": [
        {
          "output_type": "stream",
          "name": "stdout",
          "text": [
            "Model: ModifiedRes\n",
            "Parameters: 74317349\n",
            "Output shape (batch x classes): torch.Size([4, 5])\n"
          ]
        }
      ]
    },
    {
      "cell_type": "markdown",
      "source": [
        "PART 5: TRAINING. Since I am using BCELogitsLoss. This is a version of Cross Entropy Loss that deals with multi-label classification, which is what we are dealing with in this CelebA dataset."
      ],
      "metadata": {
        "id": "7euH9INPor1j"
      }
    },
    {
      "cell_type": "code",
      "source": [
        "def accuracy(outputs, targets, threshold = 0.5):\n",
        "   ##Needed to compute accuracy scalar. Since this is a multi-layer classification problem , we need this accuracy function as opposed to a single layer accuracy function.\n",
        "  probabilties = torch.sigmoid(outputs)\n",
        "  predictions = (probabilties >= threshold).float()\n",
        "  return (predictions == targets).float().mean().item()\n",
        "def train_one_epoch(model, loader, optimizer, criterion, device): ##Setting up definition to train just one epoch.\n",
        "  model.train()\n",
        "  running_loss = 0.0 ##Tracking loss\n",
        "  running_acc = 0.0 ##Tracking Accuracy\n",
        "  total = 0\n",
        "  for images, targets in loader:\n",
        "    images, targets = images.to(device), targets.to(device)\n",
        "    targets = targets.float()\n",
        "    optimizer.zero_grad()\n",
        "    outputs = model(images)\n",
        "    loss = criterion(outputs, targets)\n",
        "    loss.backward()\n",
        "    optimizer.step()\n",
        "\n",
        "    batch_size = images.size(0)\n",
        "    running_loss += loss.item() * batch_size\n",
        "    running_acc += accuracy(outputs, targets) * batch_size\n",
        "    total += batch_size\n",
        "\n",
        "  epoch_loss = running_loss / total\n",
        "  epoch_acc = running_acc / total\n",
        "  return epoch_loss, epoch_acc\n",
        "\n",
        "@torch.no_grad()\n",
        "def evaluate(model, loader, criterion, device):\n",
        "    model.eval()\n",
        "    running_loss = 0.0\n",
        "    running_acc = 0.0\n",
        "    total = 0\n",
        "    for images, targets in loader:\n",
        "        images, targets = images.to(device), targets.to(device)\n",
        "        outputs = model(images)\n",
        "        loss = criterion(outputs, targets)\n",
        "\n",
        "        batch_size = images.size(0)\n",
        "        running_loss += loss.item() * batch_size\n",
        "        running_acc += accuracy(outputs, targets) * batch_size\n",
        "        total += batch_size\n",
        "    eval_loss = running_loss / total\n",
        "    eval_acc = running_acc / total\n",
        "    return eval_loss, eval_acc"
      ],
      "metadata": {
        "id": "raXBqv-Kph5e"
      },
      "execution_count": 10,
      "outputs": []
    },
    {
      "cell_type": "markdown",
      "source": [
        "Full Training Loop (Fit)"
      ],
      "metadata": {
        "id": "nTsJPu3VoLJC"
      }
    },
    {
      "cell_type": "code",
      "source": [
        "def fit (model, train_loader, test_loader, device, epochs = 10, lr = 0.1, weight_decay = 0.0001):\n",
        "  model = model.to(device)\n",
        "  optimizer = torch.optim.SGD(model.parameters(), lr = lr, momentum = 0.9, weight_decay = weight_decay, nesterov = True)\n",
        "  criterion = nn.BCEWithLogitsLoss() ##NEED TO USE LOGITS INSTEAD OF CROSS ENTROPY. WE ARE DEALING WITH MULTI-LAYER CLASSIFICATION\n",
        "  scheduler=torch.optim.lr_scheduler.StepLR(optimizer, step_size=3, gamma=0.1) #scheduler will run every 3 epochs, since epoch =10.\n",
        "\n",
        "  ##Tracking loss per epoch:\n",
        "\n",
        "  history = {'epoch': [], 'train_loss': [], 'test_loss': [], 'train_acc': [], 'test_acc': [], 'time': []}\n",
        "  best_acc = 0.0\n",
        "  best_path = 'ModifiedRes_celebA_best.pth'\n",
        "  for epoch in range(1, epochs + 1 ):\n",
        "    start = time.time()\n",
        "    train_loss, train_acc = train_one_epoch(model, train_loader, optimizer, criterion, device)\n",
        "    test_loss, test_acc = evaluate(model, test_loader, criterion, device)\n",
        "    scheduler.step()\n",
        "\n",
        "    dt = time.time() - start ##Tracking change in time between epochs.\n",
        "    history['epoch'].append(epoch)\n",
        "    history['train_loss'].append(train_loss)\n",
        "    history['train_acc'].append(train_acc)\n",
        "    history['test_loss'].append(test_loss)\n",
        "    history['test_acc'].append(test_acc)\n",
        "    history['time'].append(dt)\n",
        "\n",
        "    print(f\"Epoch{epoch:02d}/{epochs} - train_loss: {train_loss:.4f} acc: {100*train_acc:.2f}% | \" +\n",
        "          f\"test_loss: {test_loss:.4f} acc: {100*test_acc:.2f}% | {dt:.1f}s\")\n",
        "    ##Saving the best model:\n",
        "    if test_acc > best_acc:\n",
        "      best_acc = test_acc\n",
        "      torch.save(model.state_dict(), best_path)\n",
        "      print(f\"  -> Best Model Saved (acc: {100*test_acc:.2f}%).\")\n",
        "  return history, best_path"
      ],
      "metadata": {
        "id": "PTF69jP3oNb4"
      },
      "execution_count": 11,
      "outputs": []
    },
    {
      "cell_type": "markdown",
      "source": [
        "MODEL TRAINING:\n",
        "\n",
        "This block of code will train our model and print out accuracy and loss per epoch."
      ],
      "metadata": {
        "id": "_2RV3usX07b8"
      }
    },
    {
      "cell_type": "code",
      "source": [
        "##Fresh Model for training.\n",
        "\n",
        "model = ModifiedRes(num_classes=len(TARGET_ATTRIBUTES), width_multiplier=1, first_conv_stride =1)\n",
        "\n",
        "##Run training, can increase epochs for better accuracy:\n",
        "\n",
        "history, best_path = fit(model, train_loader, test_loader, device, epochs = 10, lr = 0.05)\n",
        "\n",
        "print('\\nTraining finished. Best Checkpoint:', best_path)"
      ],
      "metadata": {
        "colab": {
          "base_uri": "https://localhost:8080/"
        },
        "id": "XBsUyCwfDLA4",
        "outputId": "73d6ad48-11c8-4fed-8df2-71f463be1ef0"
      },
      "execution_count": 12,
      "outputs": [
        {
          "output_type": "stream",
          "name": "stdout",
          "text": [
            "Epoch01/10 - train_loss: 0.2642 acc: 88.59% | test_loss: 0.1983 acc: 91.89% | 342.5s\n",
            "  -> Best Model Saved (acc: 91.89%).\n",
            "Epoch02/10 - train_loss: 0.1857 acc: 92.33% | test_loss: 0.1718 acc: 93.04% | 165.4s\n",
            "  -> Best Model Saved (acc: 93.04%).\n",
            "Epoch03/10 - train_loss: 0.1643 acc: 93.30% | test_loss: 0.1545 acc: 93.66% | 167.2s\n",
            "  -> Best Model Saved (acc: 93.66%).\n",
            "Epoch04/10 - train_loss: 0.1406 acc: 94.28% | test_loss: 0.1360 acc: 94.39% | 165.6s\n",
            "  -> Best Model Saved (acc: 94.39%).\n",
            "Epoch05/10 - train_loss: 0.1364 acc: 94.45% | test_loss: 0.1352 acc: 94.43% | 165.5s\n",
            "  -> Best Model Saved (acc: 94.43%).\n",
            "Epoch06/10 - train_loss: 0.1340 acc: 94.53% | test_loss: 0.1332 acc: 94.53% | 165.8s\n",
            "  -> Best Model Saved (acc: 94.53%).\n",
            "Epoch07/10 - train_loss: 0.1308 acc: 94.67% | test_loss: 0.1313 acc: 94.59% | 166.8s\n",
            "  -> Best Model Saved (acc: 94.59%).\n",
            "Epoch08/10 - train_loss: 0.1302 acc: 94.70% | test_loss: 0.1306 acc: 94.63% | 167.5s\n",
            "  -> Best Model Saved (acc: 94.63%).\n",
            "Epoch09/10 - train_loss: 0.1300 acc: 94.70% | test_loss: 0.1305 acc: 94.62% | 166.3s\n",
            "Epoch10/10 - train_loss: 0.1295 acc: 94.73% | test_loss: 0.1305 acc: 94.64% | 166.5s\n",
            "  -> Best Model Saved (acc: 94.64%).\n",
            "\n",
            "Training finished. Best Checkpoint: ModifiedRes_celebA_best.pth\n"
          ]
        }
      ]
    },
    {
      "cell_type": "markdown",
      "source": [
        "Training curves per Epoch"
      ],
      "metadata": {
        "id": "Hn69RIs29Wwn"
      }
    },
    {
      "cell_type": "code",
      "source": [
        "def plot_history(history):\n",
        "  epochs = history['epoch']\n",
        "  plt.figure(figsize = (14,5))\n",
        "  plt.subplot(1,2,1)\n",
        "  plt.plot(epochs, history['train_loss'], label = 'train loss')\n",
        "  plt.plot(epochs, history['test_loss'], label = 'test loss')\n",
        "  plt.xlabel('Epochs')\n",
        "  plt.ylabel('Loss')\n",
        "  plt.legend()\n",
        "  plt.title('Loss') # Added title\n",
        "\n",
        "  plt.subplot(1,2,2)\n",
        "  plt.plot(epochs, [100*x for x in history['train_acc']], label = 'train acc') # Corrected generator expression\n",
        "  plt.plot(epochs, [100*x for x in history['test_acc']], label = 'test acc') # Corrected generator expression\n",
        "  plt.xlabel('Epochs')\n",
        "  plt.ylabel('Accuracy (%)')\n",
        "  plt.legend()\n",
        "  plt.title('Accuracy')\n",
        "  plt.show()\n",
        "\n",
        "plot_history(history) # Moved outside the function definition"
      ],
      "metadata": {
        "id": "5pxDxbnyHmcJ",
        "colab": {
          "base_uri": "https://localhost:8080/",
          "height": 487
        },
        "outputId": "25858f01-acd2-48ad-a3ae-9a04f92ea177"
      },
      "execution_count": 14,
      "outputs": [
        {
          "output_type": "display_data",
          "data": {
            "text/plain": [
              "<Figure size 1400x500 with 2 Axes>"
            ],
            "image/png": "[encoded data removed]"
          },
          "metadata": {}
        }
      ]
    },
    {
      "cell_type": "markdown",
      "source": [
        "According to our above graphs, it looks like the model is learning well. There seems to be convergence around epochs 7 and 8. There does not seem to be a danger for overfitting. In addition, it seems like the dropout function is working, as test loss appears to be quite similar to training loss in the end. In addition, test loss becomes very low as the model converges, making this model quite useful for real world data."
      ],
      "metadata": {
        "id": "E1yIuENCz23F"
      }
    },
    {
      "cell_type": "markdown",
      "source": [
        "Best Model checkpoint and Final Evaluation:"
      ],
      "metadata": {
        "id": "wvTgb4lZ-Ljt"
      }
    },
    {
      "cell_type": "code",
      "source": [
        "##Best Model checkpoint\n",
        "\n",
        "best_model = ModifiedRes(num_classes=len(TARGET_ATTRIBUTES), width_multiplier=1, first_conv_stride =1)\n",
        "best_model.load_state_dict(torch.load(best_path))\n",
        "best_model.to(device) # Move the model to the device\n",
        "crit = nn.BCEWithLogitsLoss() ##Need Logit Loss due to Multi-label classification.\n",
        "test_loss, test_acc = evaluate(best_model, test_loader, crit, device)\n",
        "print(f\"Best Model - test_loss: {test_loss:.4f} acc: {100*test_acc:.2f}%\")"
      ],
      "metadata": {
        "colab": {
          "base_uri": "https://localhost:8080/"
        },
        "id": "r0OmL5S--Sel",
        "outputId": "4850b046-6fa0-4896-b2ad-a8c9770d6045"
      },
      "execution_count": 16,
      "outputs": [
        {
          "output_type": "stream",
          "name": "stdout",
          "text": [
            "Best Model - test_loss: 0.1305 acc: 94.64%\n"
          ]
        }
      ]
    },
    {
      "cell_type": "markdown",
      "source": [
        "STRENGTHS/LIMITATIONS OF THIS MODEL:\n",
        "\n",
        "With a final accuracy of 94.6%, this model does seem to fit the data pretty well. It took about 25 minutes to run the full training loop for just 10 epochs. However, in terms of strengths, replacing the depthwise separable convolutions from MobileNetV2 with my groupwise convolutions added some strengths to my model. To compare with MobileNetV2, the groupwise convolutions that I added (groups=4) is less extreme than the depthwise separable convolutions of MobileNet. This means that more cross-channel connections are preserved. In comparison with ResNet, ResNet uses full convolutions throughout the Network, which uses a lot of parameters. My model makes this more efficient by usign the bottleneck residual technique, as well as grouped convolutions. One large strength of my model is that one can use it for multi-label classification tasks, as ResNet and MobileNetV2 are designed for single-label classification tasks.\n",
        "\n",
        "In terms of drawbacks of my model, I believe this would have slightly less accruacy then ResNet or MobileNetV2 models. These models come with a pre-trained database. In addition, my grouped convolutions in this custom model has less channel interaction than MobileNet or ResNet, so some accuracy points may be traded off here. In addition, because of the grouped convolutions and custom parameters (as-opposed to pre-trained in MobileNetV2 and ResNet), this model took a pretty long time to train, about 25-30 minutes. For future runs, I could consider implementing early stopping to cut down on training time."
      ],
      "metadata": {
        "id": "cpVBCd3pkDQA"
      }
    },
    {
      "cell_type": "markdown",
      "source": [
        "Sample of Image Demo Using MatPlotLib:"
      ],
      "metadata": {
        "id": "6OwZtD81Arzg"
      }
    },
    {
      "cell_type": "code",
      "source": [
        "##Helpers to un-normalize and display image.\n",
        "\n",
        "def unnormalize(img_tensor, mean = CELEBA_MEAN, std = CELEBA_STD):\n",
        "    img = img_tensor.clone().detach().cpu()\n",
        "    for t, m, s in zip(img, mean, std):\n",
        "        t.mul_(s).add_(m)\n",
        "    return torch.clamp(img, 0, 1) ## Converting back to (0,1) for display purposes.\n",
        "\n",
        "img, attributes = test_data[0] ##Images and Attributes\n",
        "attribute_names = test_data.attributes ##List of Attribute Names\n",
        "\n",
        "##Showing first image and attributes.\n",
        "attribs = [name for i, name in enumerate(attribute_names) if attributes[i] == 1] ##Checks if current attribute is active in image and will add to attribs variable.\n",
        "plt.figure(figsize=(3,3))\n",
        "plt.imshow(unnormalize(img).permute(1, 2, 0).numpy()) # Corrected imshow, numpy method, and dimension order\n",
        "plt.title('\\n'.join(attribs)); plt.axis('off')\n",
        "\n",
        "##MODEL PREDICTION:\n",
        "best_model.eval()\n",
        "with torch.no_grad():\n",
        "  logits = best_model(img.unsqueeze(0).to(device))\n",
        "  probs = torch.sigmoid(logits).cpu().squeeze() > 0.5 ##Need to use this over softmax as we are dealing with multi-layer classification.\n",
        "  preds = [name for i, name in enumerate(attribute_names) if probs[i]] # Corrected accessing attribute names and prediction logic\n",
        "\n",
        "print (\"True Attributes:\", \", \".join(attribs)) # Corrected printing true attributes\n",
        "print (\"Predicted Attributes:\", \", \".join(preds)) # Corrected printing predicted attributes"
      ],
      "metadata": {
        "colab": {
          "base_uri": "https://localhost:8080/",
          "height": 346
        },
        "id": "vqBLdfIsAyPI",
        "outputId": "5fcd3c98-f5c0-465e-e7df-6a5158d544ca"
      },
      "execution_count": 21,
      "outputs": [
        {
          "output_type": "stream",
          "name": "stdout",
          "text": [
            "True Attributes: Blond_Hair, Young\n",
            "Predicted Attributes: Blond_Hair, Young\n"
          ]
        },
        {
          "output_type": "display_data",
          "data": {
            "text/plain": [
              "<Figure size 300x300 with 1 Axes>"
            ],
            "image/png": "[encoded data removed]"
          },
          "metadata": {}
        }
      ]
    },
    {
      "cell_type": "markdown",
      "source": [
        "FINAL INTERPRETATIONS:\n",
        "\n",
        "In the end, I implemented a mix of both the MobileNetV2 and ResNet structures. Similar to MobileNetV2, this uses inverted residual blocks. However, it replaces the depthwise separable convolutions with groupwise convolutions. In additon, it uses grouped residual bottleneck with expansion, which is then followed by grouped 3x3 convolutions. Because of the grouped convolutions, this is a useful model to use for multi-label classification and computer vision tasks. After some research, there are many other fields that use multi-label classification. For example, this model could be used in quality control fields. Since it is multi-label, it can help identify many differnt attributes in defective products. In addition, in the medical field, this could be used in relation to X-rays or MRIs as well, as it can distinguish multiple different aspects of a scan."
      ],
      "metadata": {
        "id": "BCXb-g9Ds2vj"
      }
    }
  ],
  "metadata": {
    "colab": {
      "machine_shape": "hm",
      "provenance": [],
      "gpuType": "A100"
    },
    "kernelspec": {
      "display_name": "Python 3",
      "name": "python3"
    },
    "language_info": {
      "name": "python"
    },
    "accelerator": "GPU"
  },
  "nbformat": 4,
  "nbformat_minor": 0
}